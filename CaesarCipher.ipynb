{
 "cells": [
  {
   "cell_type": "markdown",
   "metadata": {},
   "source": [
    "# Caesar Cipher\n",
    "---"
   ]
  },
  {
   "cell_type": "code",
   "execution_count": null,
   "metadata": {},
   "outputs": [],
   "source": [
    "letters = {\n",
    "    \"a\" : \"f\",\n",
    "    \"b\" : \"g\",\n",
    "    \"c\" : \"h\",\n",
    "    \"d\" : \"i\",\n",
    "    \"e\" : \"j\",\n",
    "    \"f\" : \"k\",\n",
    "    \"g\" : \"l\",\n",
    "    \"h\" : \"m\",\n",
    "    \"i\" : \"n\",\n",
    "    \"j\" : \"o\",\n",
    "    \"k\" : \"p\",\n",
    "    \"l\" : \"q\",\n",
    "    \"m\" : \"r\",\n",
    "    \"n\" : \"s\",\n",
    "    \"o\" : \"t\",\n",
    "    \"p\" : \"u\",\n",
    "    \"q\" : \"v\",\n",
    "    \"r\" : \"w\",\n",
    "    \"s\" : \"x\",\n",
    "    \"t\" : \"y\",\n",
    "    \"u\" : \"z\",\n",
    "    \"v\" : \"a\",\n",
    "    \"w\" : \"b\",\n",
    "    \"x\" : \"c\",\n",
    "    \"y\" : \"d\",\n",
    "    \"z\" : \"e\",\n",
    "}\n",
    "\n",
    "#input sentence\n",
    "plain_txt = str(input(\"Please enter a sentence: \"))\n",
    "\n",
    "#print out sentence to be encrypted\n",
    "print(\"The plain sentence is:\", plain_txt)\n",
    "\n",
    "#transform sentence into lowercase\n",
    "plain_txt = plain_txt.lower() \n",
    "\n",
    "#initialize encryp\n",
    "encryp = \" \" \n",
    "\n",
    "#change input to list & split letters for comparison to dict(letters)\n",
    "list_letter = list(plain_txt)\n",
    "\n",
    "#encodes text & charx3=replaces only letters and keeps special characters \n",
    "#need for loop thr user input to prevent error\n",
    "for char in plain_txt:  \n",
    "    encryp = \"\".join(letters.get(char, char) for char in list_letter)\n",
    "#print result     \n",
    "    print(\"The encrypted sentence is:\", encryp)\n",
    "    break #stops loop"
   ]
  }
 ],
 "metadata": {
  "kernelspec": {
   "display_name": "Python 3",
   "language": "python",
   "name": "python3"
  },
  "language_info": {
   "codemirror_mode": {
    "name": "ipython",
    "version": 3
   },
   "file_extension": ".py",
   "mimetype": "text/x-python",
   "name": "python",
   "nbconvert_exporter": "python",
   "pygments_lexer": "ipython3",
   "version": "3.12.1"
  }
 },
 "nbformat": 4,
 "nbformat_minor": 2
}
